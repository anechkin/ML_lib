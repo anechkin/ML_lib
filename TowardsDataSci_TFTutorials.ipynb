{
 "cells": [
  {
   "cell_type": "markdown",
   "metadata": {},
   "source": [
    "## From SKLearn to TensorFlow\n",
    "https://towardsdatascience.com/from-scikit-learn-to-tensorflow-part-1-9ee0b96d4c85\n",
    "\n",
    "### Objectives\n",
    "- Understand functionalities that are similar between scikit-learn and TensorFlow which will allow scikit-learn users to seamlessly use TensorFlow.\n",
    "- Develop a program to classify flower varieties from the Iris flowers dataset using scikit-learn and TensorFlow to understand the effort required to build such a system.\n",
    "- Showcase how easy TensorFlow could be for prototyping new ideas.\n",
    "\n",
    "### Sample Code\n",
    "We build a classifier using scikit-learn’s SVM module and TensorFlow’s High-Level API to classify flowers based on features of the flower. In this case, the dataset provides 4 different features such as sepal width, sepal length, petal width and petal length to classify the flower into one of the three flower species (Iris setosa, Iris versicolor, and Iris virginica.)\n",
    "\n",
    "https://github.com/karthikmswamy/TFTutorials/blob/master/SkLearn_TensorFlow_Example.ipynb"
   ]
  },
  {
   "cell_type": "code",
   "execution_count": 32,
   "metadata": {},
   "outputs": [],
   "source": [
    "from __future__ import absolute_import\n",
    "from __future__ import division\n",
    "from __future__ import print_function\n",
    "\n",
    "# Import data loading and classification libraries\n",
    "from sklearn import svm\n",
    "from sklearn import metrics\n",
    "from sklearn import datasets\n",
    "from sklearn import model_selection\n",
    "\n",
    "import tensorflow as tf\n",
    "# Suppress verbose output from TensorFlow\n",
    "import os\n",
    "os.environ['TF_CPP_MIN_LOG_LEVEL'] = '3'"
   ]
  },
  {
   "cell_type": "code",
   "execution_count": 33,
   "metadata": {},
   "outputs": [],
   "source": [
    "# Load Iris data\n",
    "iris = datasets.load_iris()\n",
    "# Load features and classes\n",
    "X_train, X_test, y_train, y_test = model_selection.train_test_split(iris.data, \n",
    "                                                                    iris.target, \n",
    "                                                                    test_size=0.6, \n",
    "                                                                    random_state=42)"
   ]
  },
  {
   "cell_type": "code",
   "execution_count": 13,
   "metadata": {},
   "outputs": [
    {
     "data": {
      "text/plain": [
       "(150,)"
      ]
     },
     "execution_count": 13,
     "metadata": {},
     "output_type": "execute_result"
    }
   ],
   "source": [
    "from sklearn.datasets import load_iris\n",
    "from sklearn.model_selection import train_test_split\n",
    "import matplotlib.pyplot as plt\n",
    " \n",
    "# Loading Data\n",
    "iris = load_iris()\n",
    "X = iris.data[:, [0, 3]] # sepal length and petal width\n",
    "y = iris.target\n",
    " \n",
    "# standardize\n",
    "X[:,0] = (X[:,0] - X[:,0].mean()) / X[:,0].std()\n",
    "X[:,1] = (X[:,1] - X[:,1].mean()) / X[:,1].std()\n",
    "\n",
    "#split\n",
    "X_train, X_test, y_train, y_test = train_test_split(X,y,test_size = .30, )\n",
    "#X_train.shape\n"
   ]
  },
  {
   "cell_type": "code",
   "execution_count": 34,
   "metadata": {},
   "outputs": [
    {
     "name": "stdout",
     "output_type": "stream",
     "text": [
      "SKLearn Accuracy: 0.977778\n"
     ]
    }
   ],
   "source": [
    "from sklearn.svm import SVC\n",
    "from sklearn import metrics\n",
    "# ------------------------------------------\n",
    "# Scikit Learn Implementation\n",
    "# ------------------------------------------\n",
    "# Use support vector classification\n",
    "classifier_sk = SVC()\n",
    "# Use the train data to train this classifier\n",
    "classifier_sk.fit(X_train, y_train)\n",
    "# Use the trained model to predict on the test data\n",
    "predictions = classifier_sk.predict(X_test)\n",
    "score = metrics.accuracy_score(y_test, predictions)\n",
    "\n",
    "print('SKLearn Accuracy: {0:f}'.format(score))"
   ]
  },
  {
   "cell_type": "markdown",
   "metadata": {},
   "source": [
    "### TensorFlow Implementation"
   ]
  },
  {
   "cell_type": "code",
   "execution_count": 35,
   "metadata": {},
   "outputs": [
    {
     "name": "stdout",
     "output_type": "stream",
     "text": [
      "WARNING:tensorflow:float64 is not supported by many models, consider casting to float32.\n",
      "INFO:tensorflow:Using default config.\n",
      "WARNING:tensorflow:Using temporary folder as model directory: /var/folders/s2/pgl057wj4qz0vmx4tfn71phm0000gn/T/tmph3gjaai1\n",
      "INFO:tensorflow:Using config: {'_task_type': None, '_task_id': 0, '_cluster_spec': <tensorflow.python.training.server_lib.ClusterSpec object at 0x1a2162b470>, '_master': '', '_num_ps_replicas': 0, '_num_worker_replicas': 0, '_environment': 'local', '_is_chief': True, '_evaluation_master': '', '_train_distribute': None, '_tf_config': gpu_options {\n",
      "  per_process_gpu_memory_fraction: 1.0\n",
      "}\n",
      ", '_tf_random_seed': None, '_save_summary_steps': 100, '_save_checkpoints_secs': 600, '_log_step_count_steps': 100, '_session_config': None, '_save_checkpoints_steps': None, '_keep_checkpoint_max': 5, '_keep_checkpoint_every_n_hours': 10000, '_model_dir': '/var/folders/s2/pgl057wj4qz0vmx4tfn71phm0000gn/T/tmph3gjaai1'}\n",
      "WARNING:tensorflow:float64 is not supported by many models, consider casting to float32.\n",
      "INFO:tensorflow:Create CheckpointSaverHook.\n",
      "INFO:tensorflow:Graph was finalized.\n",
      "INFO:tensorflow:Running local_init_op.\n",
      "INFO:tensorflow:Done running local_init_op.\n",
      "INFO:tensorflow:Saving checkpoints for 1 into /var/folders/s2/pgl057wj4qz0vmx4tfn71phm0000gn/T/tmph3gjaai1/model.ckpt.\n",
      "INFO:tensorflow:loss = 1.1094142, step = 1\n",
      "INFO:tensorflow:global_step/sec: 550.267\n",
      "INFO:tensorflow:loss = 0.17693959, step = 101 (0.183 sec)\n",
      "INFO:tensorflow:global_step/sec: 675.982\n",
      "INFO:tensorflow:loss = 0.093171135, step = 201 (0.148 sec)\n",
      "INFO:tensorflow:global_step/sec: 665.566\n",
      "INFO:tensorflow:loss = 0.081188016, step = 301 (0.150 sec)\n",
      "INFO:tensorflow:global_step/sec: 667.049\n",
      "INFO:tensorflow:loss = 0.0767318, step = 401 (0.150 sec)\n",
      "INFO:tensorflow:global_step/sec: 684.342\n",
      "INFO:tensorflow:loss = 0.0740464, step = 501 (0.146 sec)\n",
      "INFO:tensorflow:global_step/sec: 690.722\n",
      "INFO:tensorflow:loss = 0.07146223, step = 601 (0.145 sec)\n",
      "INFO:tensorflow:global_step/sec: 689.289\n",
      "INFO:tensorflow:loss = 0.07026828, step = 701 (0.145 sec)\n",
      "INFO:tensorflow:global_step/sec: 675.648\n",
      "INFO:tensorflow:loss = 0.06934956, step = 801 (0.148 sec)\n",
      "INFO:tensorflow:global_step/sec: 672.834\n",
      "INFO:tensorflow:loss = 0.06896431, step = 901 (0.149 sec)\n",
      "INFO:tensorflow:global_step/sec: 673.909\n",
      "INFO:tensorflow:loss = 0.06566624, step = 1001 (0.149 sec)\n",
      "INFO:tensorflow:global_step/sec: 680.744\n",
      "INFO:tensorflow:loss = 0.06283825, step = 1101 (0.147 sec)\n",
      "INFO:tensorflow:global_step/sec: 611.067\n",
      "INFO:tensorflow:loss = 0.06064529, step = 1201 (0.164 sec)\n",
      "INFO:tensorflow:global_step/sec: 681.162\n",
      "INFO:tensorflow:loss = 0.059544444, step = 1301 (0.147 sec)\n",
      "INFO:tensorflow:global_step/sec: 677.58\n",
      "INFO:tensorflow:loss = 0.05839446, step = 1401 (0.148 sec)\n",
      "INFO:tensorflow:global_step/sec: 672.16\n",
      "INFO:tensorflow:loss = 0.056700826, step = 1501 (0.148 sec)\n",
      "INFO:tensorflow:global_step/sec: 670.153\n",
      "INFO:tensorflow:loss = 0.05316398, step = 1601 (0.149 sec)\n",
      "INFO:tensorflow:global_step/sec: 676.443\n",
      "INFO:tensorflow:loss = 0.05098208, step = 1701 (0.148 sec)\n",
      "INFO:tensorflow:global_step/sec: 675.877\n",
      "INFO:tensorflow:loss = 0.054173846, step = 1801 (0.148 sec)\n",
      "INFO:tensorflow:global_step/sec: 620.044\n",
      "INFO:tensorflow:loss = 0.047827747, step = 1901 (0.161 sec)\n",
      "INFO:tensorflow:global_step/sec: 681.31\n",
      "INFO:tensorflow:loss = 0.049715854, step = 2001 (0.147 sec)\n",
      "INFO:tensorflow:global_step/sec: 689.084\n",
      "INFO:tensorflow:loss = 0.04448192, step = 2101 (0.145 sec)\n",
      "INFO:tensorflow:global_step/sec: 667.285\n",
      "INFO:tensorflow:loss = 0.046105128, step = 2201 (0.150 sec)\n",
      "INFO:tensorflow:global_step/sec: 672.744\n",
      "INFO:tensorflow:loss = 0.035771932, step = 2301 (0.148 sec)\n",
      "INFO:tensorflow:global_step/sec: 676\n",
      "INFO:tensorflow:loss = 0.04218584, step = 2401 (0.148 sec)\n",
      "INFO:tensorflow:global_step/sec: 680.276\n",
      "INFO:tensorflow:loss = 0.040433407, step = 2501 (0.148 sec)\n",
      "INFO:tensorflow:global_step/sec: 690.123\n",
      "INFO:tensorflow:loss = 0.03605989, step = 2601 (0.144 sec)\n",
      "INFO:tensorflow:global_step/sec: 683.53\n",
      "INFO:tensorflow:loss = 0.025046116, step = 2701 (0.147 sec)\n",
      "INFO:tensorflow:global_step/sec: 684.159\n",
      "INFO:tensorflow:loss = 0.02323365, step = 2801 (0.145 sec)\n",
      "INFO:tensorflow:global_step/sec: 662.301\n",
      "INFO:tensorflow:loss = 0.019406628, step = 2901 (0.151 sec)\n",
      "INFO:tensorflow:global_step/sec: 645.853\n",
      "INFO:tensorflow:loss = 0.01555745, step = 3001 (0.157 sec)\n",
      "INFO:tensorflow:global_step/sec: 637.535\n",
      "INFO:tensorflow:loss = 0.012240798, step = 3101 (0.155 sec)\n",
      "INFO:tensorflow:global_step/sec: 693.28\n",
      "INFO:tensorflow:loss = 0.009843698, step = 3201 (0.144 sec)\n",
      "INFO:tensorflow:global_step/sec: 685.523\n",
      "INFO:tensorflow:loss = 0.007919872, step = 3301 (0.146 sec)\n",
      "INFO:tensorflow:global_step/sec: 673.554\n",
      "INFO:tensorflow:loss = 0.006707466, step = 3401 (0.148 sec)\n",
      "INFO:tensorflow:global_step/sec: 672.379\n",
      "INFO:tensorflow:loss = 0.0057034837, step = 3501 (0.149 sec)\n",
      "INFO:tensorflow:global_step/sec: 665.184\n",
      "INFO:tensorflow:loss = 0.0052358448, step = 3601 (0.150 sec)\n",
      "INFO:tensorflow:global_step/sec: 566.399\n",
      "INFO:tensorflow:loss = 0.004503032, step = 3701 (0.182 sec)\n",
      "INFO:tensorflow:global_step/sec: 481.726\n",
      "INFO:tensorflow:loss = 0.00381586, step = 3801 (0.203 sec)\n",
      "INFO:tensorflow:global_step/sec: 515.625\n",
      "INFO:tensorflow:loss = 0.0034597563, step = 3901 (0.193 sec)\n",
      "INFO:tensorflow:global_step/sec: 526.316\n",
      "INFO:tensorflow:loss = 0.0030536896, step = 4001 (0.189 sec)\n",
      "INFO:tensorflow:global_step/sec: 495.081\n",
      "INFO:tensorflow:loss = 0.0028235042, step = 4101 (0.204 sec)\n",
      "INFO:tensorflow:global_step/sec: 510.744\n",
      "INFO:tensorflow:loss = 0.002542618, step = 4201 (0.195 sec)\n",
      "INFO:tensorflow:global_step/sec: 514.896\n",
      "INFO:tensorflow:loss = 0.002226433, step = 4301 (0.194 sec)\n",
      "INFO:tensorflow:global_step/sec: 462.719\n",
      "INFO:tensorflow:loss = 0.0020309095, step = 4401 (0.217 sec)\n",
      "INFO:tensorflow:global_step/sec: 497.488\n",
      "INFO:tensorflow:loss = 0.0019193885, step = 4501 (0.202 sec)\n",
      "INFO:tensorflow:global_step/sec: 532.881\n",
      "INFO:tensorflow:loss = 0.0017694033, step = 4601 (0.187 sec)\n",
      "INFO:tensorflow:global_step/sec: 512.046\n",
      "INFO:tensorflow:loss = 0.0016398338, step = 4701 (0.194 sec)\n",
      "INFO:tensorflow:global_step/sec: 552.022\n",
      "INFO:tensorflow:loss = 0.0015207628, step = 4801 (0.181 sec)\n",
      "INFO:tensorflow:global_step/sec: 645.999\n",
      "INFO:tensorflow:loss = 0.0013995708, step = 4901 (0.155 sec)\n",
      "INFO:tensorflow:Saving checkpoints for 5000 into /var/folders/s2/pgl057wj4qz0vmx4tfn71phm0000gn/T/tmph3gjaai1/model.ckpt.\n",
      "INFO:tensorflow:Loss for final step: 0.0013131798.\n",
      "WARNING:tensorflow:float64 is not supported by many models, consider casting to float32.\n",
      "INFO:tensorflow:Graph was finalized.\n",
      "INFO:tensorflow:Restoring parameters from /var/folders/s2/pgl057wj4qz0vmx4tfn71phm0000gn/T/tmph3gjaai1/model.ckpt-5000\n",
      "INFO:tensorflow:Running local_init_op.\n",
      "INFO:tensorflow:Done running local_init_op.\n"
     ]
    }
   ],
   "source": [
    "# ------------------------------------------\n",
    "# TensorFlow Implementation\n",
    "# ------------------------------------------\n",
    "# Building a 3-layer DNN with 50 units each.\n",
    "feature_columns = tf.contrib.learn.infer_real_valued_columns_from_input(X_train)\n",
    "classifier_tf = tf.contrib.learn.DNNClassifier(feature_columns=feature_columns, \n",
    "                                               hidden_units=[50, 50, 50], \n",
    "                                               n_classes=3)\n",
    "classifier_tf.fit(X_train, y_train, steps=5000)\n",
    "predictions = list(classifier_tf.predict(X_test, as_iterable=True))\n",
    "score = metrics.accuracy_score(y_test, predictions)"
   ]
  },
  {
   "cell_type": "code",
   "execution_count": 36,
   "metadata": {},
   "outputs": [
    {
     "name": "stdout",
     "output_type": "stream",
     "text": [
      "TensorFlow Accuracy: 0.977778\n"
     ]
    }
   ],
   "source": [
    "print('TensorFlow Accuracy: {0:f}'.format(score))"
   ]
  },
  {
   "cell_type": "markdown",
   "metadata": {},
   "source": [
    "### Next\n",
    "https://github.com/karthikmswamy/TFTutorials/blob/master/SkLearn_TensorFlow_Data_NW_Report.ipynb"
   ]
  }
 ],
 "metadata": {
  "kernelspec": {
   "display_name": "Python 3",
   "language": "python",
   "name": "python3"
  },
  "language_info": {
   "codemirror_mode": {
    "name": "ipython",
    "version": 3
   },
   "file_extension": ".py",
   "mimetype": "text/x-python",
   "name": "python",
   "nbconvert_exporter": "python",
   "pygments_lexer": "ipython3",
   "version": "3.6.5"
  }
 },
 "nbformat": 4,
 "nbformat_minor": 2
}
