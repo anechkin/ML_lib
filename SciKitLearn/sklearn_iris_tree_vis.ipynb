{
 "cells": [
  {
   "cell_type": "code",
   "execution_count": 9,
   "metadata": {},
   "outputs": [
    {
     "name": "stdout",
     "output_type": "stream",
     "text": [
      "features:  ['sepal length (cm)', 'sepal width (cm)', 'petal length (cm)', 'petal width (cm)']\n",
      "class names:  ['setosa' 'versicolor' 'virginica']\n"
     ]
    }
   ],
   "source": [
    "#refer to https://aysent.github.io/2015/11/08/random-forest-leaf-visualization.html\n",
    "    \n",
    "from sklearn.datasets import load_iris\n",
    "from sklearn import tree\n",
    "from sklearn.tree import export_graphviz\n",
    "\n",
    "#load data\n",
    "iris = load_iris()\n",
    "print (\"features: \", iris.feature_names)\n",
    "\n",
    "#print (\"classes: \", clf.classes_)\n",
    "print (\"class names: \", iris.target_names)\n",
    "\n",
    "#Build the model\n",
    "clf = tree.DecisionTreeClassifier()\n",
    "clf = clf.fit(iris.data, iris.target)\n",
    "\n",
    "#Export a decision tree in DOT format\n",
    "#refer to http://scikit-learn.org/stable/modules/generated/sklearn.tree.export_graphviz.html\n",
    "\n",
    "#This function generates a GraphViz representation of the decision tree, which is then written into out_file. \n",
    "export_graphviz(clf, \n",
    "                out_file='myVis/iris_tree.dot',\n",
    "                feature_names=iris.feature_names, \n",
    "                class_names = iris.target_names,\n",
    "                filled=True, rounded=True, precision = 2, proportion=False)\n",
    "\n"
   ]
  },
  {
   "cell_type": "markdown",
   "metadata": {},
   "source": [
    "## Visualize\n",
    "Use Web Visualizer at http://webgraphviz.com/  \n",
    "reference http://dataaspirant.com/2017/04/21/visualize-decision-tree-python-graphviz/\n",
    "\n",
    "## Visualize from CLI\n",
    "\n",
    "Run the commands from directory with dot.exe, i.e. ~/Anaconda2/Library/bin/graphviz\n",
    "\n",
    "Check if GraphViz is working  \n",
    "    > dot -V => should return version\n",
    "\n",
    "Once exported, graphical renderings can be generated using, for example:  \n",
    "    > dot -Tps tre.dot -o tree.ps      (PostScript format)   \n",
    "    > dot -Tpng tre.dot -o tree.png    (PNG format)  \n",
    "    \n",
    "## Visualize Programmatically\n",
    "\n",
    "Check if conda lists graphviz package  \n",
    "    \\> conda list graphviz => should return version   \n",
    "\n",
    "Check if GraphViz is working  \n",
    "    \\> dot -V => should return version  \n",
    "    \n",
    "If not, Prerequisites on Windows10 and Anaconda:\n",
    "- install Graphviz package (i.e. \\> conda install graphviz)\n",
    "- download and install graphviz-2.38.msi and set the bin folder in the Windows environment PATH variable.  \n",
    "\n",
    "Ready to convert into an image or pdf file"
   ]
  },
  {
   "cell_type": "code",
   "execution_count": 8,
   "metadata": {},
   "outputs": [
    {
     "data": {
      "text/plain": [
       "0"
      ]
     },
     "execution_count": 8,
     "metadata": {},
     "output_type": "execute_result"
    }
   ],
   "source": [
    "# converting into the pdf file from CLI\n",
    "#dot -Tpdf file_name.dot -o file_name.pdf\n",
    "\n",
    "import os\n",
    "os.system('dot -Tpng myVis/Iris_tree.dot -o myVis/Iris_tree.png')\n",
    "os.system('dot -Tpdf myVis/Iris_tree.dot -o myVis/Iris_tree.pdf')"
   ]
  },
  {
   "cell_type": "markdown",
   "metadata": {},
   "source": [
    "### Display image in notebook \n",
    "\n",
    "![title](myVis/Iris_tree.png)"
   ]
  },
  {
   "cell_type": "markdown",
   "metadata": {
    "collapsed": true
   },
   "source": [
    "## Appendix.  Same with Train-Test Split\n",
    "Tutorial: http://www.techtrek.io/machine-learning-part-2-visualizing-a-decision-tree/  \n",
    "code: https://gist.github.com/allisontharp/2377cd94fd6ea660cb04b1b2b1204ad5  \n",
    "\n",
    "And a different way to create vis files"
   ]
  },
  {
   "cell_type": "code",
   "execution_count": null,
   "metadata": {},
   "outputs": [],
   "source": [
    "# -*- coding: utf-8 -*-\n",
    "\"\"\"\n",
    "Created on Thu Apr 21 19:11:44 2016\n",
    "@author: Allison\n",
    "\"\"\"\n",
    "import numpy as np\n",
    "from sklearn.datasets import load_iris\n",
    "from sklearn import tree\n",
    "from sklearn.tree import export_graphviz\n",
    "\n",
    "iris = load_iris()\n",
    "\n",
    "print \"feature names: \" + str(iris.feature_names)\n",
    "print \"target names: \" + str(iris.target_names)\n",
    "print \"first data measurements: \" + str(iris.data[0])\n",
    "print \"first data label: \" + str(iris.target[0])\n",
    "\n",
    "test_idx = [0, 50, 100] # index of measurements to remove (one of each type)\n",
    "\n",
    "train_target = np.delete(iris.target, test_idx) # training labels (w/o testing)\n",
    "train_data = np.delete(iris.data, test_idx, axis=0) # training data (w/o testing)\n",
    "\n",
    "test_target = iris.target[test_idx]\n",
    "test_data = iris.data[test_idx]\n",
    "\n",
    "clf = tree.DecisionTreeClassifier()\n",
    "clf.fit(train_data, train_target)\n",
    "\n",
    "# visualize tree\n",
    "from sklearn.externals.six import StringIO\n",
    "import pydotplus\n",
    "dot_data = StringIO()  \n",
    "tree.export_graphviz(clf, out_file=dot_data,  \n",
    "                         feature_names=iris.feature_names,  \n",
    "                         class_names=iris.target_names,  \n",
    "                         filled=True, rounded=True,  \n",
    "                         special_characters=True)  \n",
    "graph = pydotplus.graph_from_dot_data(dot_data.getvalue()) \n",
    "\n",
    "\n",
    "graph.write_pdf(\"myVis/iris_tree2.pdf\")\n",
    "graph.write_svg(\"myVis/iris_tree2.svg\")"
   ]
  },
  {
   "cell_type": "markdown",
   "metadata": {},
   "source": [
    "## Troubleshooting notes\n",
    "\n",
    "Gettin error:  \n",
    "InvocationException: GraphViz's executables not found\n",
    "\n",
    "Fix:  \n",
    "add dot.exe path to PATH variable  \n",
    "\n",
    "Interesting reads:\n",
    "https://github.com/ContinuumIO/anaconda-issues/issues/1666\n",
    "conda install python-graphviz\n",
    "additional comment for MacOS, py36: \n",
    "https://stackoverflow.com/questions/28312534/graphvizs-executables-are-not-found-python-3-4\n",
    "another way that worked: 1) pip install, 2) do conda install, 3)make sure dot is in $PATH\n"
   ]
  }
 ],
 "metadata": {
  "kernelspec": {
   "display_name": "Python 3",
   "language": "python",
   "name": "python3"
  },
  "language_info": {
   "codemirror_mode": {
    "name": "ipython",
    "version": 3
   },
   "file_extension": ".py",
   "mimetype": "text/x-python",
   "name": "python",
   "nbconvert_exporter": "python",
   "pygments_lexer": "ipython3",
   "version": "3.6.5"
  }
 },
 "nbformat": 4,
 "nbformat_minor": 2
}
