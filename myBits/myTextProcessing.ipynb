{
 "cells": [
  {
   "cell_type": "code",
   "execution_count": 1,
   "metadata": {},
   "outputs": [],
   "source": [
    "#meta 1/3/2018"
   ]
  },
  {
   "cell_type": "markdown",
   "metadata": {},
   "source": [
    "### Count distinct words from a Pandas Data Frame\n",
    "src https://stackoverflow.com/questions/18936957/count-distinct-words-from-a-pandas-data-frame"
   ]
  },
  {
   "cell_type": "code",
   "execution_count": 4,
   "metadata": {},
   "outputs": [
    {
     "data": {
      "text/html": [
       "<div>\n",
       "<style scoped>\n",
       "    .dataframe tbody tr th:only-of-type {\n",
       "        vertical-align: middle;\n",
       "    }\n",
       "\n",
       "    .dataframe tbody tr th {\n",
       "        vertical-align: top;\n",
       "    }\n",
       "\n",
       "    .dataframe thead th {\n",
       "        text-align: right;\n",
       "    }\n",
       "</style>\n",
       "<table border=\"1\" class=\"dataframe\">\n",
       "  <thead>\n",
       "    <tr style=\"text-align: right;\">\n",
       "      <th></th>\n",
       "      <th>text</th>\n",
       "    </tr>\n",
       "  </thead>\n",
       "  <tbody>\n",
       "    <tr>\n",
       "      <th>0</th>\n",
       "      <td>My nickname is ft.jgt</td>\n",
       "    </tr>\n",
       "    <tr>\n",
       "      <th>1</th>\n",
       "      <td>Someone is going to my place</td>\n",
       "    </tr>\n",
       "  </tbody>\n",
       "</table>\n",
       "</div>"
      ],
      "text/plain": [
       "                           text\n",
       "0         My nickname is ft.jgt\n",
       "1  Someone is going to my place"
      ]
     },
     "execution_count": 4,
     "metadata": {},
     "output_type": "execute_result"
    }
   ],
   "source": [
    "import pandas as pd\n",
    "\n",
    "data=['My nickname is ft.jgt','Someone is going to my place']\n",
    "\n",
    "df=pd.DataFrame(data,columns=['text'])\n",
    "df.head()"
   ]
  },
  {
   "cell_type": "code",
   "execution_count": 6,
   "metadata": {},
   "outputs": [
    {
     "name": "stdout",
     "output_type": "stream",
     "text": [
      "--Clean up\n",
      "0             [my, nickname, is, ft.jgt]\n",
      "1    [someone, is, going, to, my, place]\n",
      "Name: text, dtype: object\n",
      "{'my', 'is', 'someone', 'nickname', 'going', 'place', 'ft.jgt', 'to'}\n"
     ]
    }
   ],
   "source": [
    "#Do some clean-up on df to get the strings in lower case and split:\n",
    "print ('--Clean up')\n",
    "print (df['text'].str.lower().str.split())\n",
    "\n",
    "#Use a set to create the sequence of unique elements\n",
    "#Each list in this column can be passed to set.update function to get unique values. Use apply to do so:\n",
    "results = set()\n",
    "df['text'].str.lower().str.split().apply(results.update)\n",
    "print (results)"
   ]
  },
  {
   "cell_type": "code",
   "execution_count": 8,
   "metadata": {},
   "outputs": [
    {
     "name": "stdout",
     "output_type": "stream",
     "text": [
      "Counter({'my': 2, 'is': 2, 'nickname': 1, 'ft.jgt': 1, 'someone': 1, 'going': 1, 'to': 1, 'place': 1})\n"
     ]
    }
   ],
   "source": [
    "from collections import Counter \n",
    "#if you want to keep count, you could use Counter()\n",
    "results = Counter()\n",
    "df['text'].str.lower().str.split().apply(results.update)\n",
    "print (results)"
   ]
  },
  {
   "cell_type": "code",
   "execution_count": null,
   "metadata": {},
   "outputs": [],
   "source": []
  },
  {
   "cell_type": "code",
   "execution_count": null,
   "metadata": {},
   "outputs": [],
   "source": []
  }
 ],
 "metadata": {
  "kernelspec": {
   "display_name": "Python 3",
   "language": "python",
   "name": "python3"
  },
  "language_info": {
   "codemirror_mode": {
    "name": "ipython",
    "version": 3
   },
   "file_extension": ".py",
   "mimetype": "text/x-python",
   "name": "python",
   "nbconvert_exporter": "python",
   "pygments_lexer": "ipython3",
   "version": "3.6.5"
  }
 },
 "nbformat": 4,
 "nbformat_minor": 2
}
