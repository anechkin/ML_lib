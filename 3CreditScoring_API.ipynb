{
 "cells": [
  {
   "cell_type": "code",
   "execution_count": 1,
   "metadata": {
    "collapsed": true
   },
   "outputs": [],
   "source": [
    "#Kinetica webinar\n",
    "#Kaggle Credit Scoring dataset\n",
    "#based on Kinetica webcast, but couldn't implement API code exactly because don't have Anaconda Enterprise\n",
    "#=> can't use from anacondda_enterprise import publish => can't use decorator publish\n",
    "#so figured out my own way using Flask\n",
    "#11/10/2017\n",
    "\n",
    "import numpy as np\n",
    "import pandas as pd\n",
    "from sklearn.externals import joblib\n",
    "\n",
    "#Flask already installed\n",
    "from flask import Flask\n",
    "from flask import jsonify\n",
    "from flask import request"
   ]
  },
  {
   "cell_type": "code",
   "execution_count": 2,
   "metadata": {
    "collapsed": false
   },
   "outputs": [
    {
     "data": {
      "text/plain": [
       "\"import json\\n\\nREQUEST = json.dumps({\\n        'path': {},\\n        'args': {},\\n        'body': {}\\n    })\\n\""
      ]
     },
     "execution_count": 2,
     "metadata": {},
     "output_type": "execute_result"
    }
   ],
   "source": [
    "\"\"\"import json\n",
    "\n",
    "REQUEST = json.dumps({\n",
    "        'path': {},\n",
    "        'args': {},\n",
    "        'body': {}\n",
    "    })\n",
    "\"\"\""
   ]
  },
  {
   "cell_type": "code",
   "execution_count": 3,
   "metadata": {
    "collapsed": false
   },
   "outputs": [
    {
     "data": {
      "text/plain": [
       "\"#validate the model works before passing it to web service\\nmodel = joblib.load('myModels/model.pkl')\\nguess = np.array([45, 0.802982129, 9120]).reshape(1,-1)\\ny_hat = model.predict(guess)\\nprint y_hat\\n\""
      ]
     },
     "execution_count": 3,
     "metadata": {},
     "output_type": "execute_result"
    }
   ],
   "source": [
    "\"\"\"#validate the model works before passing it to web service\n",
    "model = joblib.load('myModels/model.pkl')\n",
    "guess = np.array([45, 0.802982129, 9120]).reshape(1,-1)\n",
    "y_hat = model.predict(guess)\n",
    "print y_hat\n",
    "\"\"\""
   ]
  },
  {
   "cell_type": "code",
   "execution_count": 4,
   "metadata": {
    "collapsed": false
   },
   "outputs": [],
   "source": [
    "#creates an app object from Flask.\n",
    "app = Flask(__name__)"
   ]
  },
  {
   "cell_type": "code",
   "execution_count": 5,
   "metadata": {
    "collapsed": false
   },
   "outputs": [
    {
     "name": "stdout",
     "output_type": "stream",
     "text": [
      "model loaded\n"
     ]
    }
   ],
   "source": [
    "#request defined\n",
    "@app.route('/predict',methods=['POST'])\n",
    "\n",
    "def predict(): \n",
    "    json_ = request.json\n",
    "    query_df = pd.DataFrame(json_)\n",
    "    \n",
    "    ##prediction = clf.predict(query).tolist()\n",
    "    ##return jsonify({'prediction': prediction})\n",
    "    \n",
    "    #guess = np.array([age_num, debt_num, income_num]).reshape(1,-1)\n",
    "    y_hat = model.predict(query_df).tolist()\n",
    "    \n",
    "    return jsonify({'prediction': y_hat})\n",
    "\n",
    "if __name__ == '__main__':\n",
    "    model = joblib.load('myModels/model.pkl')\n",
    "    print 'model loaded'\n",
    "    app.run()"
   ]
  },
  {
   "cell_type": "markdown",
   "metadata": {},
   "source": [
    "To test this new function we can use the curl command \n",
    "\n",
    "single:  \n",
    "curl -X POST http://localhost:5000/predict  -H \"Content-Type: application/json\" -d '[{\"age\": 17.0, \"debtRatio\": 0.8, \"monthlyIncome\": 9120}]'\n",
    "\n",
    "\n",
    "multi:  \n",
    "curl -X POST http://localhost:5000/predict  -H \"Content-Type: application/json\" -d '[{\"age\": 40.0, \"debtRatio\": 0.1218, \"monthlyIncome\": 2600},{\"age\": 45.0, \"debtRatio\": 0.80298, \"monthlyIncome\": 9120},{\"age\": 31.0, \"debtRatio\": 0.8247, \"monthlyIncome\": 3000}]'"
   ]
  },
  {
   "cell_type": "markdown",
   "metadata": {
    "collapsed": true
   },
   "source": [
    "### Incremental Web Service Coding"
   ]
  },
  {
   "cell_type": "code",
   "execution_count": null,
   "metadata": {
    "collapsed": true
   },
   "outputs": [],
   "source": [
    "\"\"\"\n",
    "#for troubleshooting - verified can run web server\n",
    "@app.route(\"/\")\n",
    "def hello():\n",
    "    return \"Hello API World!\"\n",
    "\n",
    "#app.run() starts the web server and ready to handle the request. \n",
    "#But at this moment, it can handle only one request.\n",
    "if __name__ == \"__main__\":\n",
    "    app.run()\n",
    "\"\"\""
   ]
  },
  {
   "cell_type": "code",
   "execution_count": null,
   "metadata": {
    "collapsed": true
   },
   "outputs": [],
   "source": [
    "\"\"\"\n",
    "#for troubleshooting - verified can invoke method 'predict' without passing any variablea\n",
    "@app.route('/predict',methods=['POST'])\n",
    "def predict(): \n",
    "    age_num = 45\n",
    "    debt_num = 0.802982129\n",
    "    income_num = 9120\n",
    "    guess = np.array([age_num, debt_num, income_num]).reshape(1,-1)\n",
    "    y_hat = model.predict(guess).tolist()\n",
    "    \n",
    "    return jsonify({'prediction': y_hat})\n",
    "\n",
    "if __name__ == '__main__':\n",
    "    model = joblib.load('myModels/model.pkl')\n",
    "    print 'model loaded'\n",
    "    app.run()\n",
    "\"\"\""
   ]
  },
  {
   "cell_type": "code",
   "execution_count": null,
   "metadata": {
    "collapsed": true
   },
   "outputs": [],
   "source": [
    "\"\"\"\n",
    "#kinetica's chunk - not fully implemented\n",
    "def predict(age, debtRatio, monthlyIncome): \n",
    "    age_num = age[0]\n",
    "    debt_num = debtRatio[0]\n",
    "    income_num = monthlyIncome[0]\n",
    "    guess = np.array[(age_num, debt_num, income_num)].reshape(1,-1)\n",
    "    y_hat = model.predict(guess)\n",
    "    \n",
    "    return jsonify(y_hat)\n",
    "\"\"\""
   ]
  }
 ],
 "metadata": {
  "kernelspec": {
   "display_name": "Python 2",
   "language": "python",
   "name": "python2"
  },
  "language_info": {
   "codemirror_mode": {
    "name": "ipython",
    "version": 2
   },
   "file_extension": ".py",
   "mimetype": "text/x-python",
   "name": "python",
   "nbconvert_exporter": "python",
   "pygments_lexer": "ipython2",
   "version": "2.7.13"
  }
 },
 "nbformat": 4,
 "nbformat_minor": 0
}
